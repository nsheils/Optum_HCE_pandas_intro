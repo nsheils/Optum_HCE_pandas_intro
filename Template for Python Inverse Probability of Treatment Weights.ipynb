{
 "cells": [
  {
   "cell_type": "markdown",
   "metadata": {},
   "source": [
    "# TEMPLATE for IPTW\n",
    "\n",
    "created by Kevin Heltemes\n",
    "\n",
    "requires the dummy dataset \"Dataset_for_Programming.xlsx\" to be in the same directory"
   ]
  },
  {
   "cell_type": "code",
   "execution_count": 1,
   "metadata": {},
   "outputs": [],
   "source": [
    "import pandas as pd\n",
    "import numpy as np\n",
    "import os"
   ]
  },
  {
   "cell_type": "code",
   "execution_count": 2,
   "metadata": {},
   "outputs": [
    {
     "data": {
      "text/plain": [
       "'/Users/nsheils/Downloads'"
      ]
     },
     "execution_count": 2,
     "metadata": {},
     "output_type": "execute_result"
    }
   ],
   "source": [
    "#print current working directory. That is, where is this document\n",
    "os.getcwd()"
   ]
  },
  {
   "cell_type": "code",
   "execution_count": 3,
   "metadata": {},
   "outputs": [],
   "source": [
    "#set some pandas options\n",
    "pd.set_option('display.max_columns', None)"
   ]
  },
  {
   "cell_type": "code",
   "execution_count": 4,
   "metadata": {},
   "outputs": [],
   "source": [
    "# Descriptions: \n",
    "# treat - an indicator variable for participant status.\n",
    "# MBR_AGE - age in years.\n",
    "# GENDER = gender indicator\n",
    "# RISK_TYPE - risk arrangement.\n",
    "# SEV_LVL_CD - patient acuity.\n",
    "# PCP_ENC_90D- PCP visit indiator in 90 days after intervention."
   ]
  },
  {
   "cell_type": "code",
   "execution_count": 5,
   "metadata": {},
   "outputs": [],
   "source": [
    "#df = pd.read_excel(r'C:\\Users\\khelteme\\Dataset_for_Programming.xlsx',\n",
    "#                  sheet_name = 'DATA')\n",
    "file_loc = os.getcwd()+'/Dataset_for_Programming.xlsx'\n",
    "df = pd.read_excel(file_loc,\n",
    "                  sheet_name = 'DATA')"
   ]
  },
  {
   "cell_type": "code",
   "execution_count": 6,
   "metadata": {
    "scrolled": true
   },
   "outputs": [
    {
     "data": {
      "text/html": [
       "<div>\n",
       "<style scoped>\n",
       "    .dataframe tbody tr th:only-of-type {\n",
       "        vertical-align: middle;\n",
       "    }\n",
       "\n",
       "    .dataframe tbody tr th {\n",
       "        vertical-align: top;\n",
       "    }\n",
       "\n",
       "    .dataframe thead th {\n",
       "        text-align: right;\n",
       "    }\n",
       "</style>\n",
       "<table border=\"1\" class=\"dataframe\">\n",
       "  <thead>\n",
       "    <tr style=\"text-align: right;\">\n",
       "      <th></th>\n",
       "      <th>COHORT_ID</th>\n",
       "      <th>MBR_AGE</th>\n",
       "      <th>MBR_GDR_CD</th>\n",
       "      <th>GENDER</th>\n",
       "      <th>RISK_TYPE</th>\n",
       "      <th>SEV_LVL_CD</th>\n",
       "      <th>PCP_ENC_90D</th>\n",
       "    </tr>\n",
       "  </thead>\n",
       "  <tbody>\n",
       "    <tr>\n",
       "      <th>0</th>\n",
       "      <td>CTRL</td>\n",
       "      <td>73</td>\n",
       "      <td>F</td>\n",
       "      <td>Female</td>\n",
       "      <td>GLOBAL</td>\n",
       "      <td>1</td>\n",
       "      <td>0</td>\n",
       "    </tr>\n",
       "    <tr>\n",
       "      <th>1</th>\n",
       "      <td>Participant</td>\n",
       "      <td>69</td>\n",
       "      <td>F</td>\n",
       "      <td>Female</td>\n",
       "      <td>FFS</td>\n",
       "      <td>1</td>\n",
       "      <td>0</td>\n",
       "    </tr>\n",
       "    <tr>\n",
       "      <th>2</th>\n",
       "      <td>Participant</td>\n",
       "      <td>69</td>\n",
       "      <td>F</td>\n",
       "      <td>Female</td>\n",
       "      <td>FFS</td>\n",
       "      <td>1</td>\n",
       "      <td>0</td>\n",
       "    </tr>\n",
       "    <tr>\n",
       "      <th>3</th>\n",
       "      <td>Participant</td>\n",
       "      <td>68</td>\n",
       "      <td>F</td>\n",
       "      <td>Female</td>\n",
       "      <td>FFS</td>\n",
       "      <td>1</td>\n",
       "      <td>0</td>\n",
       "    </tr>\n",
       "    <tr>\n",
       "      <th>4</th>\n",
       "      <td>CTRL</td>\n",
       "      <td>72</td>\n",
       "      <td>F</td>\n",
       "      <td>Female</td>\n",
       "      <td>GLOBAL</td>\n",
       "      <td>1</td>\n",
       "      <td>0</td>\n",
       "    </tr>\n",
       "  </tbody>\n",
       "</table>\n",
       "</div>"
      ],
      "text/plain": [
       "     COHORT_ID  MBR_AGE MBR_GDR_CD  GENDER RISK_TYPE  SEV_LVL_CD  PCP_ENC_90D\n",
       "0         CTRL       73          F  Female    GLOBAL           1            0\n",
       "1  Participant       69          F  Female       FFS           1            0\n",
       "2  Participant       69          F  Female       FFS           1            0\n",
       "3  Participant       68          F  Female       FFS           1            0\n",
       "4         CTRL       72          F  Female    GLOBAL           1            0"
      ]
     },
     "execution_count": 6,
     "metadata": {},
     "output_type": "execute_result"
    }
   ],
   "source": [
    "df.head()"
   ]
  },
  {
   "cell_type": "code",
   "execution_count": 7,
   "metadata": {},
   "outputs": [
    {
     "name": "stdout",
     "output_type": "stream",
     "text": [
      "<class 'pandas.core.frame.DataFrame'>\n",
      "RangeIndex: 3234 entries, 0 to 3233\n",
      "Data columns (total 7 columns):\n",
      " #   Column       Non-Null Count  Dtype \n",
      "---  ------       --------------  ----- \n",
      " 0   COHORT_ID    3234 non-null   object\n",
      " 1   MBR_AGE      3234 non-null   int64 \n",
      " 2   MBR_GDR_CD   3234 non-null   object\n",
      " 3   GENDER       3234 non-null   object\n",
      " 4   RISK_TYPE    3234 non-null   object\n",
      " 5   SEV_LVL_CD   3234 non-null   int64 \n",
      " 6   PCP_ENC_90D  3234 non-null   int64 \n",
      "dtypes: int64(3), object(4)\n",
      "memory usage: 177.0+ KB\n"
     ]
    }
   ],
   "source": [
    "df.info()"
   ]
  },
  {
   "cell_type": "code",
   "execution_count": 8,
   "metadata": {},
   "outputs": [
    {
     "data": {
      "text/html": [
       "<div>\n",
       "<style scoped>\n",
       "    .dataframe tbody tr th:only-of-type {\n",
       "        vertical-align: middle;\n",
       "    }\n",
       "\n",
       "    .dataframe tbody tr th {\n",
       "        vertical-align: top;\n",
       "    }\n",
       "\n",
       "    .dataframe thead th {\n",
       "        text-align: right;\n",
       "    }\n",
       "</style>\n",
       "<table border=\"1\" class=\"dataframe\">\n",
       "  <thead>\n",
       "    <tr style=\"text-align: right;\">\n",
       "      <th></th>\n",
       "      <th>MBR_AGE</th>\n",
       "      <th>SEV_LVL_CD</th>\n",
       "      <th>PCP_ENC_90D</th>\n",
       "    </tr>\n",
       "  </thead>\n",
       "  <tbody>\n",
       "    <tr>\n",
       "      <th>count</th>\n",
       "      <td>3234.000000</td>\n",
       "      <td>3234.000000</td>\n",
       "      <td>3234.000000</td>\n",
       "    </tr>\n",
       "    <tr>\n",
       "      <th>mean</th>\n",
       "      <td>66.713667</td>\n",
       "      <td>1.132344</td>\n",
       "      <td>0.120594</td>\n",
       "    </tr>\n",
       "    <tr>\n",
       "      <th>std</th>\n",
       "      <td>16.556970</td>\n",
       "      <td>0.733064</td>\n",
       "      <td>0.325705</td>\n",
       "    </tr>\n",
       "    <tr>\n",
       "      <th>min</th>\n",
       "      <td>0.000000</td>\n",
       "      <td>0.000000</td>\n",
       "      <td>0.000000</td>\n",
       "    </tr>\n",
       "    <tr>\n",
       "      <th>25%</th>\n",
       "      <td>62.000000</td>\n",
       "      <td>1.000000</td>\n",
       "      <td>0.000000</td>\n",
       "    </tr>\n",
       "    <tr>\n",
       "      <th>50%</th>\n",
       "      <td>70.000000</td>\n",
       "      <td>1.000000</td>\n",
       "      <td>0.000000</td>\n",
       "    </tr>\n",
       "    <tr>\n",
       "      <th>75%</th>\n",
       "      <td>77.000000</td>\n",
       "      <td>1.000000</td>\n",
       "      <td>0.000000</td>\n",
       "    </tr>\n",
       "    <tr>\n",
       "      <th>max</th>\n",
       "      <td>98.000000</td>\n",
       "      <td>4.000000</td>\n",
       "      <td>1.000000</td>\n",
       "    </tr>\n",
       "  </tbody>\n",
       "</table>\n",
       "</div>"
      ],
      "text/plain": [
       "           MBR_AGE   SEV_LVL_CD  PCP_ENC_90D\n",
       "count  3234.000000  3234.000000  3234.000000\n",
       "mean     66.713667     1.132344     0.120594\n",
       "std      16.556970     0.733064     0.325705\n",
       "min       0.000000     0.000000     0.000000\n",
       "25%      62.000000     1.000000     0.000000\n",
       "50%      70.000000     1.000000     0.000000\n",
       "75%      77.000000     1.000000     0.000000\n",
       "max      98.000000     4.000000     1.000000"
      ]
     },
     "execution_count": 8,
     "metadata": {},
     "output_type": "execute_result"
    }
   ],
   "source": [
    "df.describe()"
   ]
  },
  {
   "cell_type": "code",
   "execution_count": 9,
   "metadata": {},
   "outputs": [],
   "source": [
    "#add a new column to the dataset \"treat\" which is binary. 1 if patient is a participant, 0 if in control\n",
    "df.loc[df['COHORT_ID'] == \"Participant\", 'treat'] = 1\n",
    "df.loc[df['COHORT_ID'] == \"CTRL\", 'treat'] = 0"
   ]
  },
  {
   "cell_type": "code",
   "execution_count": 10,
   "metadata": {},
   "outputs": [],
   "source": [
    "#add a new column \"isFemale\" which also has binary entries\n",
    "df.loc[df['GENDER'] == \"Female\", 'IsFemale'] = 1\n",
    "df.loc[df['GENDER'] == \"Male\", 'IsFemale'] = 0"
   ]
  },
  {
   "cell_type": "code",
   "execution_count": 11,
   "metadata": {},
   "outputs": [],
   "source": [
    "#do the same thing again for new column \"IsGlobal\"\n",
    "df.loc[df['RISK_TYPE'] == \"GLOBAL\", 'IsGlobal'] = 1\n",
    "df.loc[df['RISK_TYPE'].isin([\"FFS\", \"UNKNOWN\", \"PROF CAP\"]), 'IsGlobal'] = 0"
   ]
  },
  {
   "cell_type": "code",
   "execution_count": 12,
   "metadata": {},
   "outputs": [
    {
     "data": {
      "text/html": [
       "<div>\n",
       "<style scoped>\n",
       "    .dataframe tbody tr th:only-of-type {\n",
       "        vertical-align: middle;\n",
       "    }\n",
       "\n",
       "    .dataframe tbody tr th {\n",
       "        vertical-align: top;\n",
       "    }\n",
       "\n",
       "    .dataframe thead th {\n",
       "        text-align: right;\n",
       "    }\n",
       "</style>\n",
       "<table border=\"1\" class=\"dataframe\">\n",
       "  <thead>\n",
       "    <tr style=\"text-align: right;\">\n",
       "      <th></th>\n",
       "      <th>MBR_AGE</th>\n",
       "      <th>SEV_LVL_CD</th>\n",
       "      <th>PCP_ENC_90D</th>\n",
       "      <th>treat</th>\n",
       "      <th>IsFemale</th>\n",
       "      <th>IsGlobal</th>\n",
       "    </tr>\n",
       "  </thead>\n",
       "  <tbody>\n",
       "    <tr>\n",
       "      <th>count</th>\n",
       "      <td>3234.000000</td>\n",
       "      <td>3234.000000</td>\n",
       "      <td>3234.000000</td>\n",
       "      <td>3234.000000</td>\n",
       "      <td>3234.000000</td>\n",
       "      <td>3234.000000</td>\n",
       "    </tr>\n",
       "    <tr>\n",
       "      <th>mean</th>\n",
       "      <td>66.713667</td>\n",
       "      <td>1.132344</td>\n",
       "      <td>0.120594</td>\n",
       "      <td>0.500000</td>\n",
       "      <td>0.623377</td>\n",
       "      <td>0.869821</td>\n",
       "    </tr>\n",
       "    <tr>\n",
       "      <th>std</th>\n",
       "      <td>16.556970</td>\n",
       "      <td>0.733064</td>\n",
       "      <td>0.325705</td>\n",
       "      <td>0.500077</td>\n",
       "      <td>0.484614</td>\n",
       "      <td>0.336553</td>\n",
       "    </tr>\n",
       "    <tr>\n",
       "      <th>min</th>\n",
       "      <td>0.000000</td>\n",
       "      <td>0.000000</td>\n",
       "      <td>0.000000</td>\n",
       "      <td>0.000000</td>\n",
       "      <td>0.000000</td>\n",
       "      <td>0.000000</td>\n",
       "    </tr>\n",
       "    <tr>\n",
       "      <th>25%</th>\n",
       "      <td>62.000000</td>\n",
       "      <td>1.000000</td>\n",
       "      <td>0.000000</td>\n",
       "      <td>0.000000</td>\n",
       "      <td>0.000000</td>\n",
       "      <td>1.000000</td>\n",
       "    </tr>\n",
       "    <tr>\n",
       "      <th>50%</th>\n",
       "      <td>70.000000</td>\n",
       "      <td>1.000000</td>\n",
       "      <td>0.000000</td>\n",
       "      <td>0.500000</td>\n",
       "      <td>1.000000</td>\n",
       "      <td>1.000000</td>\n",
       "    </tr>\n",
       "    <tr>\n",
       "      <th>75%</th>\n",
       "      <td>77.000000</td>\n",
       "      <td>1.000000</td>\n",
       "      <td>0.000000</td>\n",
       "      <td>1.000000</td>\n",
       "      <td>1.000000</td>\n",
       "      <td>1.000000</td>\n",
       "    </tr>\n",
       "    <tr>\n",
       "      <th>max</th>\n",
       "      <td>98.000000</td>\n",
       "      <td>4.000000</td>\n",
       "      <td>1.000000</td>\n",
       "      <td>1.000000</td>\n",
       "      <td>1.000000</td>\n",
       "      <td>1.000000</td>\n",
       "    </tr>\n",
       "  </tbody>\n",
       "</table>\n",
       "</div>"
      ],
      "text/plain": [
       "           MBR_AGE   SEV_LVL_CD  PCP_ENC_90D        treat     IsFemale  \\\n",
       "count  3234.000000  3234.000000  3234.000000  3234.000000  3234.000000   \n",
       "mean     66.713667     1.132344     0.120594     0.500000     0.623377   \n",
       "std      16.556970     0.733064     0.325705     0.500077     0.484614   \n",
       "min       0.000000     0.000000     0.000000     0.000000     0.000000   \n",
       "25%      62.000000     1.000000     0.000000     0.000000     0.000000   \n",
       "50%      70.000000     1.000000     0.000000     0.500000     1.000000   \n",
       "75%      77.000000     1.000000     0.000000     1.000000     1.000000   \n",
       "max      98.000000     4.000000     1.000000     1.000000     1.000000   \n",
       "\n",
       "          IsGlobal  \n",
       "count  3234.000000  \n",
       "mean      0.869821  \n",
       "std       0.336553  \n",
       "min       0.000000  \n",
       "25%       1.000000  \n",
       "50%       1.000000  \n",
       "75%       1.000000  \n",
       "max       1.000000  "
      ]
     },
     "execution_count": 12,
     "metadata": {},
     "output_type": "execute_result"
    }
   ],
   "source": [
    "df.describe()"
   ]
  },
  {
   "cell_type": "code",
   "execution_count": 13,
   "metadata": {},
   "outputs": [],
   "source": [
    "#df['SEV_LVL_CD'] = pd.to_numeric(df['SEV_LVL_CD'])"
   ]
  },
  {
   "cell_type": "code",
   "execution_count": 14,
   "metadata": {},
   "outputs": [
    {
     "data": {
      "text/plain": [
       "(3234, 10)"
      ]
     },
     "execution_count": 14,
     "metadata": {},
     "output_type": "execute_result"
    }
   ],
   "source": [
    "df.shape"
   ]
  },
  {
   "cell_type": "markdown",
   "metadata": {},
   "source": [
    "#### estimate propensity scores and calculate weights"
   ]
  },
  {
   "cell_type": "code",
   "execution_count": 15,
   "metadata": {},
   "outputs": [],
   "source": [
    "import statsmodels.api as sm\n",
    "import statsmodels.formula.api as smf "
   ]
  },
  {
   "cell_type": "code",
   "execution_count": 16,
   "metadata": {},
   "outputs": [
    {
     "data": {
      "text/html": [
       "<table class=\"simpletable\">\n",
       "<caption>Generalized Linear Model Regression Results</caption>\n",
       "<tr>\n",
       "  <th>Dep. Variable:</th>         <td>treat</td>      <th>  No. Observations:  </th>  <td>  3234</td> \n",
       "</tr>\n",
       "<tr>\n",
       "  <th>Model:</th>                  <td>GLM</td>       <th>  Df Residuals:      </th>  <td>  3229</td> \n",
       "</tr>\n",
       "<tr>\n",
       "  <th>Model Family:</th>        <td>Binomial</td>     <th>  Df Model:          </th>  <td>     4</td> \n",
       "</tr>\n",
       "<tr>\n",
       "  <th>Link Function:</th>         <td>logit</td>      <th>  Scale:             </th> <td>  1.0000</td>\n",
       "</tr>\n",
       "<tr>\n",
       "  <th>Method:</th>                <td>IRLS</td>       <th>  Log-Likelihood:    </th> <td> -2231.3</td>\n",
       "</tr>\n",
       "<tr>\n",
       "  <th>Date:</th>            <td>Wed, 22 Jun 2022</td> <th>  Deviance:          </th> <td>  4462.6</td>\n",
       "</tr>\n",
       "<tr>\n",
       "  <th>Time:</th>                <td>10:01:39</td>     <th>  Pearson chi2:      </th> <td>3.23e+03</td>\n",
       "</tr>\n",
       "<tr>\n",
       "  <th>No. Iterations:</th>          <td>4</td>        <th>                     </th>     <td> </td>   \n",
       "</tr>\n",
       "<tr>\n",
       "  <th>Covariance Type:</th>     <td>nonrobust</td>    <th>                     </th>     <td> </td>   \n",
       "</tr>\n",
       "</table>\n",
       "<table class=\"simpletable\">\n",
       "<tr>\n",
       "       <td></td>         <th>coef</th>     <th>std err</th>      <th>z</th>      <th>P>|z|</th>  <th>[0.025</th>    <th>0.975]</th>  \n",
       "</tr>\n",
       "<tr>\n",
       "  <th>Intercept</th>  <td>   -0.1921</td> <td>    0.162</td> <td>   -1.187</td> <td> 0.235</td> <td>   -0.509</td> <td>    0.125</td>\n",
       "</tr>\n",
       "<tr>\n",
       "  <th>MBR_AGE</th>    <td>   -0.0039</td> <td>    0.002</td> <td>   -1.575</td> <td> 0.115</td> <td>   -0.009</td> <td>    0.001</td>\n",
       "</tr>\n",
       "<tr>\n",
       "  <th>IsFemale</th>   <td>   -0.0235</td> <td>    0.073</td> <td>   -0.321</td> <td> 0.748</td> <td>   -0.167</td> <td>    0.120</td>\n",
       "</tr>\n",
       "<tr>\n",
       "  <th>IsGlobal</th>   <td>    0.5241</td> <td>    0.117</td> <td>    4.495</td> <td> 0.000</td> <td>    0.296</td> <td>    0.753</td>\n",
       "</tr>\n",
       "<tr>\n",
       "  <th>SEV_LVL_CD</th> <td>    0.0084</td> <td>    0.051</td> <td>    0.165</td> <td> 0.869</td> <td>   -0.091</td> <td>    0.108</td>\n",
       "</tr>\n",
       "</table>"
      ],
      "text/plain": [
       "<class 'statsmodels.iolib.summary.Summary'>\n",
       "\"\"\"\n",
       "                 Generalized Linear Model Regression Results                  \n",
       "==============================================================================\n",
       "Dep. Variable:                  treat   No. Observations:                 3234\n",
       "Model:                            GLM   Df Residuals:                     3229\n",
       "Model Family:                Binomial   Df Model:                            4\n",
       "Link Function:                  logit   Scale:                          1.0000\n",
       "Method:                          IRLS   Log-Likelihood:                -2231.3\n",
       "Date:                Wed, 22 Jun 2022   Deviance:                       4462.6\n",
       "Time:                        10:01:39   Pearson chi2:                 3.23e+03\n",
       "No. Iterations:                     4                                         \n",
       "Covariance Type:            nonrobust                                         \n",
       "==============================================================================\n",
       "                 coef    std err          z      P>|z|      [0.025      0.975]\n",
       "------------------------------------------------------------------------------\n",
       "Intercept     -0.1921      0.162     -1.187      0.235      -0.509       0.125\n",
       "MBR_AGE       -0.0039      0.002     -1.575      0.115      -0.009       0.001\n",
       "IsFemale      -0.0235      0.073     -0.321      0.748      -0.167       0.120\n",
       "IsGlobal       0.5241      0.117      4.495      0.000       0.296       0.753\n",
       "SEV_LVL_CD     0.0084      0.051      0.165      0.869      -0.091       0.108\n",
       "==============================================================================\n",
       "\"\"\""
      ]
     },
     "execution_count": 16,
     "metadata": {},
     "output_type": "execute_result"
    }
   ],
   "source": [
    "#build a generalized linear model fit to the data\n",
    "modelresult = smf.glm('treat ~ MBR_AGE + IsFemale + IsGlobal + SEV_LVL_CD', \n",
    "                        data=df, \n",
    "                        family=sm.families.Binomial()).fit()\n",
    "\n",
    "modelresult.summary()"
   ]
  },
  {
   "cell_type": "code",
   "execution_count": 17,
   "metadata": {},
   "outputs": [
    {
     "data": {
      "text/html": [
       "<div>\n",
       "<style scoped>\n",
       "    .dataframe tbody tr th:only-of-type {\n",
       "        vertical-align: middle;\n",
       "    }\n",
       "\n",
       "    .dataframe tbody tr th {\n",
       "        vertical-align: top;\n",
       "    }\n",
       "\n",
       "    .dataframe thead th {\n",
       "        text-align: right;\n",
       "    }\n",
       "</style>\n",
       "<table border=\"1\" class=\"dataframe\">\n",
       "  <thead>\n",
       "    <tr style=\"text-align: right;\">\n",
       "      <th></th>\n",
       "      <th>0</th>\n",
       "    </tr>\n",
       "  </thead>\n",
       "  <tbody>\n",
       "    <tr>\n",
       "      <th>0</th>\n",
       "      <td>0.508302</td>\n",
       "    </tr>\n",
       "    <tr>\n",
       "      <th>1</th>\n",
       "      <td>0.383359</td>\n",
       "    </tr>\n",
       "    <tr>\n",
       "      <th>2</th>\n",
       "      <td>0.383359</td>\n",
       "    </tr>\n",
       "    <tr>\n",
       "      <th>3</th>\n",
       "      <td>0.384278</td>\n",
       "    </tr>\n",
       "    <tr>\n",
       "      <th>4</th>\n",
       "      <td>0.509273</td>\n",
       "    </tr>\n",
       "    <tr>\n",
       "      <th>...</th>\n",
       "      <td>...</td>\n",
       "    </tr>\n",
       "    <tr>\n",
       "      <th>3229</th>\n",
       "      <td>0.560349</td>\n",
       "    </tr>\n",
       "    <tr>\n",
       "      <th>3230</th>\n",
       "      <td>0.533548</td>\n",
       "    </tr>\n",
       "    <tr>\n",
       "      <th>3231</th>\n",
       "      <td>0.524795</td>\n",
       "    </tr>\n",
       "    <tr>\n",
       "      <th>3232</th>\n",
       "      <td>0.504417</td>\n",
       "    </tr>\n",
       "    <tr>\n",
       "      <th>3233</th>\n",
       "      <td>0.558543</td>\n",
       "    </tr>\n",
       "  </tbody>\n",
       "</table>\n",
       "<p>3234 rows × 1 columns</p>\n",
       "</div>"
      ],
      "text/plain": [
       "             0\n",
       "0     0.508302\n",
       "1     0.383359\n",
       "2     0.383359\n",
       "3     0.384278\n",
       "4     0.509273\n",
       "...        ...\n",
       "3229  0.560349\n",
       "3230  0.533548\n",
       "3231  0.524795\n",
       "3232  0.504417\n",
       "3233  0.558543\n",
       "\n",
       "[3234 rows x 1 columns]"
      ]
     },
     "execution_count": 17,
     "metadata": {},
     "output_type": "execute_result"
    }
   ],
   "source": [
    "#make predictions using the model on our data\n",
    "DF_Predictions = pd.DataFrame(modelresult.predict())\n",
    "DF_Predictions"
   ]
  },
  {
   "cell_type": "code",
   "execution_count": 18,
   "metadata": {},
   "outputs": [],
   "source": [
    "#add these predictions to our dataframe in a column \"ps\"\n",
    "df['ps'] = DF_Predictions"
   ]
  },
  {
   "cell_type": "code",
   "execution_count": 19,
   "metadata": {},
   "outputs": [
    {
     "data": {
      "text/html": [
       "<div>\n",
       "<style scoped>\n",
       "    .dataframe tbody tr th:only-of-type {\n",
       "        vertical-align: middle;\n",
       "    }\n",
       "\n",
       "    .dataframe tbody tr th {\n",
       "        vertical-align: top;\n",
       "    }\n",
       "\n",
       "    .dataframe thead th {\n",
       "        text-align: right;\n",
       "    }\n",
       "</style>\n",
       "<table border=\"1\" class=\"dataframe\">\n",
       "  <thead>\n",
       "    <tr style=\"text-align: right;\">\n",
       "      <th></th>\n",
       "      <th>COHORT_ID</th>\n",
       "      <th>MBR_AGE</th>\n",
       "      <th>MBR_GDR_CD</th>\n",
       "      <th>GENDER</th>\n",
       "      <th>RISK_TYPE</th>\n",
       "      <th>SEV_LVL_CD</th>\n",
       "      <th>PCP_ENC_90D</th>\n",
       "      <th>treat</th>\n",
       "      <th>IsFemale</th>\n",
       "      <th>IsGlobal</th>\n",
       "      <th>ps</th>\n",
       "    </tr>\n",
       "  </thead>\n",
       "  <tbody>\n",
       "    <tr>\n",
       "      <th>0</th>\n",
       "      <td>CTRL</td>\n",
       "      <td>73</td>\n",
       "      <td>F</td>\n",
       "      <td>Female</td>\n",
       "      <td>GLOBAL</td>\n",
       "      <td>1</td>\n",
       "      <td>0</td>\n",
       "      <td>0.0</td>\n",
       "      <td>1.0</td>\n",
       "      <td>1.0</td>\n",
       "      <td>0.508302</td>\n",
       "    </tr>\n",
       "    <tr>\n",
       "      <th>1</th>\n",
       "      <td>Participant</td>\n",
       "      <td>69</td>\n",
       "      <td>F</td>\n",
       "      <td>Female</td>\n",
       "      <td>FFS</td>\n",
       "      <td>1</td>\n",
       "      <td>0</td>\n",
       "      <td>1.0</td>\n",
       "      <td>1.0</td>\n",
       "      <td>0.0</td>\n",
       "      <td>0.383359</td>\n",
       "    </tr>\n",
       "    <tr>\n",
       "      <th>2</th>\n",
       "      <td>Participant</td>\n",
       "      <td>69</td>\n",
       "      <td>F</td>\n",
       "      <td>Female</td>\n",
       "      <td>FFS</td>\n",
       "      <td>1</td>\n",
       "      <td>0</td>\n",
       "      <td>1.0</td>\n",
       "      <td>1.0</td>\n",
       "      <td>0.0</td>\n",
       "      <td>0.383359</td>\n",
       "    </tr>\n",
       "    <tr>\n",
       "      <th>3</th>\n",
       "      <td>Participant</td>\n",
       "      <td>68</td>\n",
       "      <td>F</td>\n",
       "      <td>Female</td>\n",
       "      <td>FFS</td>\n",
       "      <td>1</td>\n",
       "      <td>0</td>\n",
       "      <td>1.0</td>\n",
       "      <td>1.0</td>\n",
       "      <td>0.0</td>\n",
       "      <td>0.384278</td>\n",
       "    </tr>\n",
       "    <tr>\n",
       "      <th>4</th>\n",
       "      <td>CTRL</td>\n",
       "      <td>72</td>\n",
       "      <td>F</td>\n",
       "      <td>Female</td>\n",
       "      <td>GLOBAL</td>\n",
       "      <td>1</td>\n",
       "      <td>0</td>\n",
       "      <td>0.0</td>\n",
       "      <td>1.0</td>\n",
       "      <td>1.0</td>\n",
       "      <td>0.509273</td>\n",
       "    </tr>\n",
       "  </tbody>\n",
       "</table>\n",
       "</div>"
      ],
      "text/plain": [
       "     COHORT_ID  MBR_AGE MBR_GDR_CD  GENDER RISK_TYPE  SEV_LVL_CD  PCP_ENC_90D  \\\n",
       "0         CTRL       73          F  Female    GLOBAL           1            0   \n",
       "1  Participant       69          F  Female       FFS           1            0   \n",
       "2  Participant       69          F  Female       FFS           1            0   \n",
       "3  Participant       68          F  Female       FFS           1            0   \n",
       "4         CTRL       72          F  Female    GLOBAL           1            0   \n",
       "\n",
       "   treat  IsFemale  IsGlobal        ps  \n",
       "0    0.0       1.0       1.0  0.508302  \n",
       "1    1.0       1.0       0.0  0.383359  \n",
       "2    1.0       1.0       0.0  0.383359  \n",
       "3    1.0       1.0       0.0  0.384278  \n",
       "4    0.0       1.0       1.0  0.509273  "
      ]
     },
     "execution_count": 19,
     "metadata": {},
     "output_type": "execute_result"
    }
   ],
   "source": [
    "df.head()"
   ]
  },
  {
   "cell_type": "code",
   "execution_count": 20,
   "metadata": {},
   "outputs": [
    {
     "data": {
      "text/plain": [
       "count    3234.000000\n",
       "mean        0.500000\n",
       "std         0.039836\n",
       "min         0.369679\n",
       "25%         0.502474\n",
       "50%         0.510395\n",
       "75%         0.518008\n",
       "max         0.580340\n",
       "Name: ps, dtype: float64"
      ]
     },
     "execution_count": 20,
     "metadata": {},
     "output_type": "execute_result"
    },
    {
     "data": {
      "image/png": "[encoded data removed]",
      "text/plain": [
       "<Figure size 432x288 with 1 Axes>"
      ]
     },
     "metadata": {
      "needs_background": "light"
     },
     "output_type": "display_data"
    }
   ],
   "source": [
    "# explore\n",
    "# plot a histogram of the propensity scores\n",
    "df.ps.plot(kind='hist', bins=30)\n",
    "df.ps.describe()"
   ]
  },
  {
   "cell_type": "code",
   "execution_count": 21,
   "metadata": {},
   "outputs": [
    {
     "data": {
      "image/png": "[encoded data removed]",
      "text/plain": [
       "<Figure size 432x288 with 1 Axes>"
      ]
     },
     "metadata": {
      "needs_background": "light"
     },
     "output_type": "display_data"
    }
   ],
   "source": [
    "# assess common support\n",
    "df.boxplot(column='ps', by='treat', rot=90);"
   ]
  },
  {
   "cell_type": "markdown",
   "metadata": {},
   "source": [
    "In IPTWs, each treated person receives a weight equal to the inverse of the propensity\n",
    "score"
   ]
  },
  {
   "cell_type": "code",
   "execution_count": 22,
   "metadata": {},
   "outputs": [],
   "source": [
    "# calculate inverse probability of treatment weights\n",
    "df.loc[(df['treat'] == 1), 'IPTW'] = (1 / df['ps'])\n",
    "df.loc[(df['treat'] == 0), 'IPTW'] = (1 / (1 - df['ps']))"
   ]
  },
  {
   "cell_type": "code",
   "execution_count": 23,
   "metadata": {},
   "outputs": [
    {
     "data": {
      "text/html": [
       "<div>\n",
       "<style scoped>\n",
       "    .dataframe tbody tr th:only-of-type {\n",
       "        vertical-align: middle;\n",
       "    }\n",
       "\n",
       "    .dataframe tbody tr th {\n",
       "        vertical-align: top;\n",
       "    }\n",
       "\n",
       "    .dataframe thead th {\n",
       "        text-align: right;\n",
       "    }\n",
       "</style>\n",
       "<table border=\"1\" class=\"dataframe\">\n",
       "  <thead>\n",
       "    <tr style=\"text-align: right;\">\n",
       "      <th></th>\n",
       "      <th>COHORT_ID</th>\n",
       "      <th>MBR_AGE</th>\n",
       "      <th>MBR_GDR_CD</th>\n",
       "      <th>GENDER</th>\n",
       "      <th>RISK_TYPE</th>\n",
       "      <th>SEV_LVL_CD</th>\n",
       "      <th>PCP_ENC_90D</th>\n",
       "      <th>treat</th>\n",
       "      <th>IsFemale</th>\n",
       "      <th>IsGlobal</th>\n",
       "      <th>ps</th>\n",
       "      <th>IPTW</th>\n",
       "    </tr>\n",
       "  </thead>\n",
       "  <tbody>\n",
       "    <tr>\n",
       "      <th>0</th>\n",
       "      <td>CTRL</td>\n",
       "      <td>73</td>\n",
       "      <td>F</td>\n",
       "      <td>Female</td>\n",
       "      <td>GLOBAL</td>\n",
       "      <td>1</td>\n",
       "      <td>0</td>\n",
       "      <td>0.0</td>\n",
       "      <td>1.0</td>\n",
       "      <td>1.0</td>\n",
       "      <td>0.508302</td>\n",
       "      <td>2.033768</td>\n",
       "    </tr>\n",
       "    <tr>\n",
       "      <th>1</th>\n",
       "      <td>Participant</td>\n",
       "      <td>69</td>\n",
       "      <td>F</td>\n",
       "      <td>Female</td>\n",
       "      <td>FFS</td>\n",
       "      <td>1</td>\n",
       "      <td>0</td>\n",
       "      <td>1.0</td>\n",
       "      <td>1.0</td>\n",
       "      <td>0.0</td>\n",
       "      <td>0.383359</td>\n",
       "      <td>2.608518</td>\n",
       "    </tr>\n",
       "    <tr>\n",
       "      <th>2</th>\n",
       "      <td>Participant</td>\n",
       "      <td>69</td>\n",
       "      <td>F</td>\n",
       "      <td>Female</td>\n",
       "      <td>FFS</td>\n",
       "      <td>1</td>\n",
       "      <td>0</td>\n",
       "      <td>1.0</td>\n",
       "      <td>1.0</td>\n",
       "      <td>0.0</td>\n",
       "      <td>0.383359</td>\n",
       "      <td>2.608518</td>\n",
       "    </tr>\n",
       "    <tr>\n",
       "      <th>3</th>\n",
       "      <td>Participant</td>\n",
       "      <td>68</td>\n",
       "      <td>F</td>\n",
       "      <td>Female</td>\n",
       "      <td>FFS</td>\n",
       "      <td>1</td>\n",
       "      <td>0</td>\n",
       "      <td>1.0</td>\n",
       "      <td>1.0</td>\n",
       "      <td>0.0</td>\n",
       "      <td>0.384278</td>\n",
       "      <td>2.602280</td>\n",
       "    </tr>\n",
       "    <tr>\n",
       "      <th>4</th>\n",
       "      <td>CTRL</td>\n",
       "      <td>72</td>\n",
       "      <td>F</td>\n",
       "      <td>Female</td>\n",
       "      <td>GLOBAL</td>\n",
       "      <td>1</td>\n",
       "      <td>0</td>\n",
       "      <td>0.0</td>\n",
       "      <td>1.0</td>\n",
       "      <td>1.0</td>\n",
       "      <td>0.509273</td>\n",
       "      <td>2.037792</td>\n",
       "    </tr>\n",
       "  </tbody>\n",
       "</table>\n",
       "</div>"
      ],
      "text/plain": [
       "     COHORT_ID  MBR_AGE MBR_GDR_CD  GENDER RISK_TYPE  SEV_LVL_CD  PCP_ENC_90D  \\\n",
       "0         CTRL       73          F  Female    GLOBAL           1            0   \n",
       "1  Participant       69          F  Female       FFS           1            0   \n",
       "2  Participant       69          F  Female       FFS           1            0   \n",
       "3  Participant       68          F  Female       FFS           1            0   \n",
       "4         CTRL       72          F  Female    GLOBAL           1            0   \n",
       "\n",
       "   treat  IsFemale  IsGlobal        ps      IPTW  \n",
       "0    0.0       1.0       1.0  0.508302  2.033768  \n",
       "1    1.0       1.0       0.0  0.383359  2.608518  \n",
       "2    1.0       1.0       0.0  0.383359  2.608518  \n",
       "3    1.0       1.0       0.0  0.384278  2.602280  \n",
       "4    0.0       1.0       1.0  0.509273  2.037792  "
      ]
     },
     "execution_count": 23,
     "metadata": {},
     "output_type": "execute_result"
    }
   ],
   "source": [
    "df.head()"
   ]
  },
  {
   "cell_type": "code",
   "execution_count": 24,
   "metadata": {},
   "outputs": [
    {
     "data": {
      "image/png": "[encoded data removed]",
      "text/plain": [
       "<Figure size 432x288 with 1 Axes>"
      ]
     },
     "metadata": {
      "needs_background": "light"
     },
     "output_type": "display_data"
    }
   ],
   "source": [
    "# create a histogram and assess outliers\n",
    "df['IPTW'].plot(kind='hist', title='IPTW');"
   ]
  },
  {
   "cell_type": "code",
   "execution_count": 25,
   "metadata": {},
   "outputs": [
    {
     "data": {
      "text/html": [
       "<div>\n",
       "<style scoped>\n",
       "    .dataframe tbody tr th:only-of-type {\n",
       "        vertical-align: middle;\n",
       "    }\n",
       "\n",
       "    .dataframe tbody tr th {\n",
       "        vertical-align: top;\n",
       "    }\n",
       "\n",
       "    .dataframe thead th {\n",
       "        text-align: right;\n",
       "    }\n",
       "</style>\n",
       "<table border=\"1\" class=\"dataframe\">\n",
       "  <thead>\n",
       "    <tr style=\"text-align: right;\">\n",
       "      <th></th>\n",
       "      <th>MBR_AGE</th>\n",
       "      <th>SEV_LVL_CD</th>\n",
       "      <th>PCP_ENC_90D</th>\n",
       "      <th>treat</th>\n",
       "      <th>IsFemale</th>\n",
       "      <th>IsGlobal</th>\n",
       "      <th>ps</th>\n",
       "      <th>IPTW</th>\n",
       "    </tr>\n",
       "  </thead>\n",
       "  <tbody>\n",
       "    <tr>\n",
       "      <th>count</th>\n",
       "      <td>3234.000000</td>\n",
       "      <td>3234.000000</td>\n",
       "      <td>3234.000000</td>\n",
       "      <td>3234.000000</td>\n",
       "      <td>3234.000000</td>\n",
       "      <td>3234.000000</td>\n",
       "      <td>3234.000000</td>\n",
       "      <td>3234.000000</td>\n",
       "    </tr>\n",
       "    <tr>\n",
       "      <th>mean</th>\n",
       "      <td>66.713667</td>\n",
       "      <td>1.132344</td>\n",
       "      <td>0.120594</td>\n",
       "      <td>0.500000</td>\n",
       "      <td>0.623377</td>\n",
       "      <td>0.869821</td>\n",
       "      <td>0.500000</td>\n",
       "      <td>1.999953</td>\n",
       "    </tr>\n",
       "    <tr>\n",
       "      <th>std</th>\n",
       "      <td>16.556970</td>\n",
       "      <td>0.733064</td>\n",
       "      <td>0.325705</td>\n",
       "      <td>0.500077</td>\n",
       "      <td>0.484614</td>\n",
       "      <td>0.336553</td>\n",
       "      <td>0.039836</td>\n",
       "      <td>0.161336</td>\n",
       "    </tr>\n",
       "    <tr>\n",
       "      <th>min</th>\n",
       "      <td>0.000000</td>\n",
       "      <td>0.000000</td>\n",
       "      <td>0.000000</td>\n",
       "      <td>0.000000</td>\n",
       "      <td>0.000000</td>\n",
       "      <td>0.000000</td>\n",
       "      <td>0.369679</td>\n",
       "      <td>1.586493</td>\n",
       "    </tr>\n",
       "    <tr>\n",
       "      <th>25%</th>\n",
       "      <td>62.000000</td>\n",
       "      <td>1.000000</td>\n",
       "      <td>0.000000</td>\n",
       "      <td>0.000000</td>\n",
       "      <td>0.000000</td>\n",
       "      <td>1.000000</td>\n",
       "      <td>0.502474</td>\n",
       "      <td>1.941229</td>\n",
       "    </tr>\n",
       "    <tr>\n",
       "      <th>50%</th>\n",
       "      <td>70.000000</td>\n",
       "      <td>1.000000</td>\n",
       "      <td>0.000000</td>\n",
       "      <td>0.500000</td>\n",
       "      <td>1.000000</td>\n",
       "      <td>1.000000</td>\n",
       "      <td>0.510395</td>\n",
       "      <td>1.994189</td>\n",
       "    </tr>\n",
       "    <tr>\n",
       "      <th>75%</th>\n",
       "      <td>77.000000</td>\n",
       "      <td>1.000000</td>\n",
       "      <td>0.000000</td>\n",
       "      <td>1.000000</td>\n",
       "      <td>1.000000</td>\n",
       "      <td>1.000000</td>\n",
       "      <td>0.518008</td>\n",
       "      <td>2.054047</td>\n",
       "    </tr>\n",
       "    <tr>\n",
       "      <th>max</th>\n",
       "      <td>98.000000</td>\n",
       "      <td>4.000000</td>\n",
       "      <td>1.000000</td>\n",
       "      <td>1.000000</td>\n",
       "      <td>1.000000</td>\n",
       "      <td>1.000000</td>\n",
       "      <td>0.580340</td>\n",
       "      <td>2.685291</td>\n",
       "    </tr>\n",
       "  </tbody>\n",
       "</table>\n",
       "</div>"
      ],
      "text/plain": [
       "           MBR_AGE   SEV_LVL_CD  PCP_ENC_90D        treat     IsFemale  \\\n",
       "count  3234.000000  3234.000000  3234.000000  3234.000000  3234.000000   \n",
       "mean     66.713667     1.132344     0.120594     0.500000     0.623377   \n",
       "std      16.556970     0.733064     0.325705     0.500077     0.484614   \n",
       "min       0.000000     0.000000     0.000000     0.000000     0.000000   \n",
       "25%      62.000000     1.000000     0.000000     0.000000     0.000000   \n",
       "50%      70.000000     1.000000     0.000000     0.500000     1.000000   \n",
       "75%      77.000000     1.000000     0.000000     1.000000     1.000000   \n",
       "max      98.000000     4.000000     1.000000     1.000000     1.000000   \n",
       "\n",
       "          IsGlobal           ps         IPTW  \n",
       "count  3234.000000  3234.000000  3234.000000  \n",
       "mean      0.869821     0.500000     1.999953  \n",
       "std       0.336553     0.039836     0.161336  \n",
       "min       0.000000     0.369679     1.586493  \n",
       "25%       1.000000     0.502474     1.941229  \n",
       "50%       1.000000     0.510395     1.994189  \n",
       "75%       1.000000     0.518008     2.054047  \n",
       "max       1.000000     0.580340     2.685291  "
      ]
     },
     "execution_count": 25,
     "metadata": {},
     "output_type": "execute_result"
    }
   ],
   "source": [
    "df.describe()"
   ]
  },
  {
   "cell_type": "code",
   "execution_count": 26,
   "metadata": {},
   "outputs": [
    {
     "data": {
      "text/plain": [
       "treat      \n",
       "0.0    3186    2.382884\n",
       "       2806    2.366858\n",
       "       2813    2.294493\n",
       "       2924    2.275097\n",
       "       1616    2.274324\n",
       "1.0    636     2.685291\n",
       "       640     2.685291\n",
       "       641     2.685291\n",
       "       637     2.678755\n",
       "       149     2.665760\n",
       "Name: IPTW, dtype: float64"
      ]
     },
     "execution_count": 26,
     "metadata": {},
     "output_type": "execute_result"
    }
   ],
   "source": [
    "# if needed, trim IPTW's\n",
    "df.groupby(by=\"treat\")['IPTW'].nlargest(5)"
   ]
  },
  {
   "cell_type": "code",
   "execution_count": 27,
   "metadata": {},
   "outputs": [],
   "source": [
    "# Some trimmed threshold value\n",
    "df = df.loc[df['IPTW'] <= 23]"
   ]
  },
  {
   "cell_type": "code",
   "execution_count": 28,
   "metadata": {},
   "outputs": [
    {
     "data": {
      "text/plain": [
       "(3234, 12)"
      ]
     },
     "execution_count": 28,
     "metadata": {},
     "output_type": "execute_result"
    }
   ],
   "source": [
    "df.shape"
   ]
  },
  {
   "cell_type": "code",
   "execution_count": 29,
   "metadata": {},
   "outputs": [],
   "source": [
    "# balance diagnostics\n",
    "# descriptives unmatched or unweighted  data"
   ]
  },
  {
   "cell_type": "code",
   "execution_count": 30,
   "metadata": {},
   "outputs": [],
   "source": [
    "# split data and use numpy \n",
    "trt = df[df['treat'] == 1]  \n",
    "ctrl = df[df['treat'] == 0] "
   ]
  },
  {
   "cell_type": "code",
   "execution_count": 31,
   "metadata": {},
   "outputs": [
    {
     "data": {
      "text/plain": [
       "Index(['COHORT_ID', 'MBR_AGE', 'MBR_GDR_CD', 'GENDER', 'RISK_TYPE',\n",
       "       'SEV_LVL_CD', 'PCP_ENC_90D', 'treat', 'IsFemale', 'IsGlobal', 'ps',\n",
       "       'IPTW'],\n",
       "      dtype='object')"
      ]
     },
     "execution_count": 31,
     "metadata": {},
     "output_type": "execute_result"
    }
   ],
   "source": [
    "trt.columns"
   ]
  },
  {
   "cell_type": "code",
   "execution_count": 32,
   "metadata": {},
   "outputs": [
    {
     "data": {
      "text/plain": [
       "(1617, 12)"
      ]
     },
     "execution_count": 32,
     "metadata": {},
     "output_type": "execute_result"
    }
   ],
   "source": [
    "trt.shape"
   ]
  },
  {
   "cell_type": "code",
   "execution_count": 33,
   "metadata": {},
   "outputs": [
    {
     "data": {
      "text/plain": [
       "(1617, 12)"
      ]
     },
     "execution_count": 33,
     "metadata": {},
     "output_type": "execute_result"
    }
   ],
   "source": [
    "ctrl.shape"
   ]
  },
  {
   "cell_type": "code",
   "execution_count": 34,
   "metadata": {},
   "outputs": [
    {
     "data": {
      "text/plain": [
       "0.6227581941867656"
      ]
     },
     "execution_count": 34,
     "metadata": {},
     "output_type": "execute_result"
    }
   ],
   "source": [
    "# descriptives for unmatched or unweighted data\n",
    "np.average(trt['IsFemale'])"
   ]
  },
  {
   "cell_type": "code",
   "execution_count": 35,
   "metadata": {},
   "outputs": [
    {
     "data": {
      "text/plain": [
       "0.6239950525664811"
      ]
     },
     "execution_count": 35,
     "metadata": {},
     "output_type": "execute_result"
    }
   ],
   "source": [
    "np.average(ctrl['IsFemale'])"
   ]
  },
  {
   "cell_type": "code",
   "execution_count": 36,
   "metadata": {},
   "outputs": [
    {
     "data": {
      "text/plain": [
       "66.66898883136204"
      ]
     },
     "execution_count": 36,
     "metadata": {},
     "output_type": "execute_result"
    }
   ],
   "source": [
    "# descriptives with weighted data\n",
    "np.average(trt['MBR_AGE'], weights =  trt['IPTW'])"
   ]
  },
  {
   "cell_type": "code",
   "execution_count": 37,
   "metadata": {},
   "outputs": [
    {
     "data": {
      "text/plain": [
       "66.67592270703167"
      ]
     },
     "execution_count": 37,
     "metadata": {},
     "output_type": "execute_result"
    }
   ],
   "source": [
    "np.average(ctrl['MBR_AGE'], weights = ctrl['IPTW'])"
   ]
  },
  {
   "cell_type": "code",
   "execution_count": 38,
   "metadata": {},
   "outputs": [],
   "source": [
    "cols = ['IsFemale', 'MBR_AGE', 'IsGlobal', 'SEV_LVL_CD']"
   ]
  },
  {
   "cell_type": "code",
   "execution_count": 39,
   "metadata": {},
   "outputs": [],
   "source": [
    "df_trt = trt[cols]"
   ]
  },
  {
   "cell_type": "code",
   "execution_count": 40,
   "metadata": {},
   "outputs": [],
   "source": [
    "df_ctrl = ctrl[cols]"
   ]
  },
  {
   "cell_type": "code",
   "execution_count": 41,
   "metadata": {},
   "outputs": [],
   "source": [
    "from statsmodels.stats.weightstats import DescrStatsW"
   ]
  },
  {
   "cell_type": "code",
   "execution_count": 42,
   "metadata": {},
   "outputs": [],
   "source": [
    "# Using Dataframe.apply() to apply function add column\n",
    "def trt_weightedmean(x):\n",
    "    return DescrStatsW(x, weights=trt['IPTW']).mean\n",
    "trt_mean = df_trt.apply(trt_weightedmean)"
   ]
  },
  {
   "cell_type": "code",
   "execution_count": 43,
   "metadata": {},
   "outputs": [],
   "source": [
    "def trt_weightedstddv(x):\n",
    "    return DescrStatsW(x, weights=trt['IPTW']).std\n",
    "trt_std = df_trt.apply(trt_weightedstddv)"
   ]
  },
  {
   "cell_type": "code",
   "execution_count": 44,
   "metadata": {},
   "outputs": [],
   "source": [
    "def ctrl_weightedmean(x):\n",
    "    return DescrStatsW(x, weights=ctrl['IPTW']).mean\n",
    "ctrl_mean = df_ctrl.apply(ctrl_weightedmean)"
   ]
  },
  {
   "cell_type": "code",
   "execution_count": 45,
   "metadata": {},
   "outputs": [],
   "source": [
    "def ctrl_weightedstddv(x):\n",
    "    return DescrStatsW(x, weights=ctrl['IPTW']).std\n",
    "ctrl_std = df_ctrl.apply(ctrl_weightedstddv)"
   ]
  },
  {
   "cell_type": "code",
   "execution_count": 46,
   "metadata": {},
   "outputs": [
    {
     "data": {
      "text/plain": [
       "IsFemale       0.624178\n",
       "MBR_AGE       66.668989\n",
       "IsGlobal       0.870294\n",
       "SEV_LVL_CD     1.132672\n",
       "dtype: float64"
      ]
     },
     "execution_count": 46,
     "metadata": {},
     "output_type": "execute_result"
    }
   ],
   "source": [
    "trt_mean.head()"
   ]
  },
  {
   "cell_type": "code",
   "execution_count": 47,
   "metadata": {},
   "outputs": [
    {
     "data": {
      "text/plain": [
       "IsFemale       0.623979\n",
       "MBR_AGE       66.675923\n",
       "IsGlobal       0.870069\n",
       "SEV_LVL_CD     1.132361\n",
       "dtype: float64"
      ]
     },
     "execution_count": 47,
     "metadata": {},
     "output_type": "execute_result"
    }
   ],
   "source": [
    "ctrl_mean.head()"
   ]
  },
  {
   "cell_type": "code",
   "execution_count": 48,
   "metadata": {},
   "outputs": [
    {
     "data": {
      "text/plain": [
       "IsFemale      0.000199\n",
       "MBR_AGE      -0.006934\n",
       "IsGlobal      0.000225\n",
       "SEV_LVL_CD    0.000311\n",
       "dtype: float64"
      ]
     },
     "execution_count": 48,
     "metadata": {},
     "output_type": "execute_result"
    }
   ],
   "source": [
    "Diff_Mean = trt_mean.sub(ctrl_mean)\n",
    "Diff_Mean"
   ]
  },
  {
   "cell_type": "code",
   "execution_count": 49,
   "metadata": {},
   "outputs": [
    {
     "data": {
      "text/plain": [
       "IsFemale       0.484360\n",
       "MBR_AGE       16.603040\n",
       "IsGlobal       0.336104\n",
       "SEV_LVL_CD     0.734704\n",
       "dtype: float64"
      ]
     },
     "execution_count": 49,
     "metadata": {},
     "output_type": "execute_result"
    }
   ],
   "source": [
    "# Pooled standard deviation\n",
    "Pooled_Std = trt_std.add(ctrl_std) / 2\n",
    "Pooled_Std"
   ]
  },
  {
   "cell_type": "code",
   "execution_count": 50,
   "metadata": {},
   "outputs": [
    {
     "data": {
      "text/plain": [
       "IsFemale      0.000411\n",
       "MBR_AGE       0.000418\n",
       "IsGlobal      0.000669\n",
       "SEV_LVL_CD    0.000423\n",
       "dtype: float64"
      ]
     },
     "execution_count": 50,
     "metadata": {},
     "output_type": "execute_result"
    }
   ],
   "source": [
    "SSMD = abs(Diff_Mean / Pooled_Std)\n",
    "SSMD"
   ]
  },
  {
   "cell_type": "markdown",
   "metadata": {},
   "source": [
    "### estimation of treatment effects"
   ]
  },
  {
   "cell_type": "code",
   "execution_count": 51,
   "metadata": {},
   "outputs": [],
   "source": [
    "# iptw regression\n",
    "iptwResults = smf.wls('PCP_ENC_90D ~ treat', data=df, weights = df.IPTW).fit()"
   ]
  },
  {
   "cell_type": "code",
   "execution_count": 52,
   "metadata": {},
   "outputs": [
    {
     "data": {
      "text/html": [
       "<table class=\"simpletable\">\n",
       "<caption>WLS Regression Results</caption>\n",
       "<tr>\n",
       "  <th>Dep. Variable:</th>       <td>PCP_ENC_90D</td>   <th>  R-squared:         </th> <td>   0.005</td>\n",
       "</tr>\n",
       "<tr>\n",
       "  <th>Model:</th>                   <td>WLS</td>       <th>  Adj. R-squared:    </th> <td>   0.005</td>\n",
       "</tr>\n",
       "<tr>\n",
       "  <th>Method:</th>             <td>Least Squares</td>  <th>  F-statistic:       </th> <td>   17.37</td>\n",
       "</tr>\n",
       "<tr>\n",
       "  <th>Date:</th>             <td>Wed, 22 Jun 2022</td> <th>  Prob (F-statistic):</th> <td>3.16e-05</td>\n",
       "</tr>\n",
       "<tr>\n",
       "  <th>Time:</th>                 <td>10:01:40</td>     <th>  Log-Likelihood:    </th> <td> -961.95</td>\n",
       "</tr>\n",
       "<tr>\n",
       "  <th>No. Observations:</th>      <td>  3234</td>      <th>  AIC:               </th> <td>   1928.</td>\n",
       "</tr>\n",
       "<tr>\n",
       "  <th>Df Residuals:</th>          <td>  3232</td>      <th>  BIC:               </th> <td>   1940.</td>\n",
       "</tr>\n",
       "<tr>\n",
       "  <th>Df Model:</th>              <td>     1</td>      <th>                     </th>     <td> </td>   \n",
       "</tr>\n",
       "<tr>\n",
       "  <th>Covariance Type:</th>      <td>nonrobust</td>    <th>                     </th>     <td> </td>   \n",
       "</tr>\n",
       "</table>\n",
       "<table class=\"simpletable\">\n",
       "<tr>\n",
       "      <td></td>         <th>coef</th>     <th>std err</th>      <th>t</th>      <th>P>|t|</th>  <th>[0.025</th>    <th>0.975]</th>  \n",
       "</tr>\n",
       "<tr>\n",
       "  <th>Intercept</th> <td>    0.1449</td> <td>    0.008</td> <td>   17.904</td> <td> 0.000</td> <td>    0.129</td> <td>    0.161</td>\n",
       "</tr>\n",
       "<tr>\n",
       "  <th>treat</th>     <td>   -0.0477</td> <td>    0.011</td> <td>   -4.168</td> <td> 0.000</td> <td>   -0.070</td> <td>   -0.025</td>\n",
       "</tr>\n",
       "</table>\n",
       "<table class=\"simpletable\">\n",
       "<tr>\n",
       "  <th>Omnibus:</th>       <td>1393.484</td> <th>  Durbin-Watson:     </th> <td>   0.013</td>\n",
       "</tr>\n",
       "<tr>\n",
       "  <th>Prob(Omnibus):</th>  <td> 0.000</td>  <th>  Jarque-Bera (JB):  </th> <td>4483.767</td>\n",
       "</tr>\n",
       "<tr>\n",
       "  <th>Skew:</th>           <td> 2.317</td>  <th>  Prob(JB):          </th> <td>    0.00</td>\n",
       "</tr>\n",
       "<tr>\n",
       "  <th>Kurtosis:</th>       <td> 6.435</td>  <th>  Cond. No.          </th> <td>    2.62</td>\n",
       "</tr>\n",
       "</table><br/><br/>Notes:<br/>[1] Standard Errors assume that the covariance matrix of the errors is correctly specified."
      ],
      "text/plain": [
       "<class 'statsmodels.iolib.summary.Summary'>\n",
       "\"\"\"\n",
       "                            WLS Regression Results                            \n",
       "==============================================================================\n",
       "Dep. Variable:            PCP_ENC_90D   R-squared:                       0.005\n",
       "Model:                            WLS   Adj. R-squared:                  0.005\n",
       "Method:                 Least Squares   F-statistic:                     17.37\n",
       "Date:                Wed, 22 Jun 2022   Prob (F-statistic):           3.16e-05\n",
       "Time:                        10:01:40   Log-Likelihood:                -961.95\n",
       "No. Observations:                3234   AIC:                             1928.\n",
       "Df Residuals:                    3232   BIC:                             1940.\n",
       "Df Model:                           1                                         \n",
       "Covariance Type:            nonrobust                                         \n",
       "==============================================================================\n",
       "                 coef    std err          t      P>|t|      [0.025      0.975]\n",
       "------------------------------------------------------------------------------\n",
       "Intercept      0.1449      0.008     17.904      0.000       0.129       0.161\n",
       "treat         -0.0477      0.011     -4.168      0.000      -0.070      -0.025\n",
       "==============================================================================\n",
       "Omnibus:                     1393.484   Durbin-Watson:                   0.013\n",
       "Prob(Omnibus):                  0.000   Jarque-Bera (JB):             4483.767\n",
       "Skew:                           2.317   Prob(JB):                         0.00\n",
       "Kurtosis:                       6.435   Cond. No.                         2.62\n",
       "==============================================================================\n",
       "\n",
       "Notes:\n",
       "[1] Standard Errors assume that the covariance matrix of the errors is correctly specified.\n",
       "\"\"\""
      ]
     },
     "execution_count": 52,
     "metadata": {},
     "output_type": "execute_result"
    }
   ],
   "source": [
    "iptwResults.summary() "
   ]
  },
  {
   "cell_type": "code",
   "execution_count": 53,
   "metadata": {},
   "outputs": [],
   "source": [
    "params = iptwResults.params\n",
    "conf = iptwResults.conf_int()\n",
    "conf['Odds Ratio'] = params\n",
    "conf.columns = ['5%', '95%', 'Odds Ratio']"
   ]
  },
  {
   "cell_type": "code",
   "execution_count": 54,
   "metadata": {},
   "outputs": [
    {
     "name": "stdout",
     "output_type": "stream",
     "text": [
      "                 5%       95%  Odds Ratio\n",
      "Intercept  1.137688  1.174363    1.155880\n",
      "treat      0.932275  0.975062    0.953428\n"
     ]
    }
   ],
   "source": [
    "print(np.exp(conf))"
   ]
  },
  {
   "cell_type": "code",
   "execution_count": null,
   "metadata": {},
   "outputs": [],
   "source": []
  }
 ],
 "metadata": {
  "kernelspec": {
   "display_name": "Python 3 (ipykernel)",
   "language": "python",
   "name": "python3"
  },
  "language_info": {
   "codemirror_mode": {
    "name": "ipython",
    "version": 3
   },
   "file_extension": ".py",
   "mimetype": "text/x-python",
   "name": "python",
   "nbconvert_exporter": "python",
   "pygments_lexer": "ipython3",
   "version": "3.9.7"
  }
 },
 "nbformat": 4,
 "nbformat_minor": 4
}
