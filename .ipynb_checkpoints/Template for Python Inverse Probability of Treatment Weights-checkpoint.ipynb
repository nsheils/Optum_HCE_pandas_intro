{
 "cells": [
  {
   "cell_type": "markdown",
   "metadata": {},
   "source": [
    "# TEMPLATE for IPTW\n",
    "\n",
    "created by Kevin Heltemes\n",
    "\n",
    "requires the dummy dataset \"Dataset_for_Programming.xlsx\" to be in the same directory"
   ]
  },
  {
   "cell_type": "code",
   "execution_count": null,
   "metadata": {},
   "outputs": [],
   "source": [
    "import pandas as pd\n",
    "import numpy as np\n",
    "import os"
   ]
  },
  {
   "cell_type": "code",
   "execution_count": null,
   "metadata": {},
   "outputs": [],
   "source": [
    "#print current working directory. That is, where is this document\n",
    "os.getcwd()"
   ]
  },
  {
   "cell_type": "code",
   "execution_count": null,
   "metadata": {},
   "outputs": [],
   "source": [
    "#set some pandas options\n",
    "pd.set_option('display.max_columns', None)"
   ]
  },
  {
   "cell_type": "code",
   "execution_count": null,
   "metadata": {},
   "outputs": [],
   "source": [
    "# Descriptions: \n",
    "# treat - an indicator variable for participant status.\n",
    "# MBR_AGE - age in years.\n",
    "# GENDER = gender indicator\n",
    "# RISK_TYPE - risk arrangement.\n",
    "# SEV_LVL_CD - patient acuity.\n",
    "# PCP_ENC_90D- PCP visit indiator in 90 days after intervention."
   ]
  },
  {
   "cell_type": "code",
   "execution_count": null,
   "metadata": {},
   "outputs": [],
   "source": [
    "#df = pd.read_excel(r'C:\\Users\\khelteme\\Dataset_for_Programming.xlsx',\n",
    "#                  sheet_name = 'DATA')\n",
    "file_loc = os.getcwd()+'/Dataset_for_Programming.xlsx'\n",
    "df = pd.read_excel(file_loc,\n",
    "                  sheet_name = 'DATA')"
   ]
  },
  {
   "cell_type": "code",
   "execution_count": null,
   "metadata": {
    "scrolled": true
   },
   "outputs": [],
   "source": [
    "df.head()"
   ]
  },
  {
   "cell_type": "code",
   "execution_count": null,
   "metadata": {},
   "outputs": [],
   "source": [
    "df.info()"
   ]
  },
  {
   "cell_type": "code",
   "execution_count": null,
   "metadata": {},
   "outputs": [],
   "source": [
    "df.describe()"
   ]
  },
  {
   "cell_type": "code",
   "execution_count": null,
   "metadata": {},
   "outputs": [],
   "source": [
    "#add a new column to the dataset \"treat\" which is binary. 1 if patient is a participant, 0 if in control\n",
    "df.loc[df['COHORT_ID'] == \"Participant\", 'treat'] = 1\n",
    "df.loc[df['COHORT_ID'] == \"CTRL\", 'treat'] = 0"
   ]
  },
  {
   "cell_type": "code",
   "execution_count": null,
   "metadata": {},
   "outputs": [],
   "source": [
    "#add a new column \"isFemale\" which also has binary entries\n",
    "df.loc[df['GENDER'] == \"Female\", 'IsFemale'] = 1\n",
    "df.loc[df['GENDER'] == \"Male\", 'IsFemale'] = 0"
   ]
  },
  {
   "cell_type": "code",
   "execution_count": null,
   "metadata": {},
   "outputs": [],
   "source": [
    "#do the same thing again for new column \"IsGlobal\"\n",
    "df.loc[df['RISK_TYPE'] == \"GLOBAL\", 'IsGlobal'] = 1\n",
    "df.loc[df['RISK_TYPE'].isin([\"FFS\", \"UNKNOWN\", \"PROF CAP\"]), 'IsGlobal'] = 0"
   ]
  },
  {
   "cell_type": "code",
   "execution_count": null,
   "metadata": {},
   "outputs": [],
   "source": [
    "df.describe()"
   ]
  },
  {
   "cell_type": "code",
   "execution_count": null,
   "metadata": {},
   "outputs": [],
   "source": [
    "#df['SEV_LVL_CD'] = pd.to_numeric(df['SEV_LVL_CD'])"
   ]
  },
  {
   "cell_type": "code",
   "execution_count": null,
   "metadata": {},
   "outputs": [],
   "source": [
    "df.shape"
   ]
  },
  {
   "cell_type": "markdown",
   "metadata": {},
   "source": [
    "#### estimate propensity scores and calculate weights"
   ]
  },
  {
   "cell_type": "code",
   "execution_count": null,
   "metadata": {},
   "outputs": [],
   "source": [
    "import statsmodels.api as sm\n",
    "import statsmodels.formula.api as smf "
   ]
  },
  {
   "cell_type": "code",
   "execution_count": null,
   "metadata": {},
   "outputs": [],
   "source": [
    "#build a generalized linear model fit to the data\n",
    "modelresult = smf.glm('treat ~ MBR_AGE + IsFemale + IsGlobal + SEV_LVL_CD', \n",
    "                        data=df, \n",
    "                        family=sm.families.Binomial()).fit()\n",
    "\n",
    "modelresult.summary()"
   ]
  },
  {
   "cell_type": "code",
   "execution_count": null,
   "metadata": {},
   "outputs": [],
   "source": [
    "#make predictions using the model on our data\n",
    "DF_Predictions = pd.DataFrame(modelresult.predict())\n",
    "DF_Predictions"
   ]
  },
  {
   "cell_type": "code",
   "execution_count": null,
   "metadata": {},
   "outputs": [],
   "source": [
    "#add these predictions to our dataframe in a column \"ps\"\n",
    "df['ps'] = DF_Predictions"
   ]
  },
  {
   "cell_type": "code",
   "execution_count": null,
   "metadata": {},
   "outputs": [],
   "source": [
    "df.head()"
   ]
  },
  {
   "cell_type": "code",
   "execution_count": null,
   "metadata": {},
   "outputs": [],
   "source": [
    "# explore\n",
    "# plot a histogram of the propensity scores\n",
    "df.ps.plot(kind='hist', bins=30)\n",
    "df.ps.describe()"
   ]
  },
  {
   "cell_type": "code",
   "execution_count": null,
   "metadata": {},
   "outputs": [],
   "source": [
    "# assess common support\n",
    "df.boxplot(column='ps', by='treat', rot=90);"
   ]
  },
  {
   "cell_type": "markdown",
   "metadata": {},
   "source": [
    "In IPTWs, each treated person receives a weight equal to the inverse of the propensity\n",
    "score"
   ]
  },
  {
   "cell_type": "code",
   "execution_count": null,
   "metadata": {},
   "outputs": [],
   "source": [
    "# calculate inverse probability of treatment weights\n",
    "df.loc[(df['treat'] == 1), 'IPTW'] = (1 / df['ps'])\n",
    "df.loc[(df['treat'] == 0), 'IPTW'] = (1 / (1 - df['ps']))"
   ]
  },
  {
   "cell_type": "code",
   "execution_count": null,
   "metadata": {},
   "outputs": [],
   "source": [
    "df.head()"
   ]
  },
  {
   "cell_type": "code",
   "execution_count": null,
   "metadata": {},
   "outputs": [],
   "source": [
    "# create a histogram and assess outliers\n",
    "df['IPTW'].plot(kind='hist', title='IPTW');"
   ]
  },
  {
   "cell_type": "code",
   "execution_count": null,
   "metadata": {},
   "outputs": [],
   "source": [
    "df.describe()"
   ]
  },
  {
   "cell_type": "code",
   "execution_count": null,
   "metadata": {},
   "outputs": [],
   "source": [
    "# if needed, trim IPTW's\n",
    "df.groupby(by=\"treat\")['IPTW'].nlargest(5)"
   ]
  },
  {
   "cell_type": "code",
   "execution_count": null,
   "metadata": {},
   "outputs": [],
   "source": [
    "# Some trimmed threshold value\n",
    "df = df.loc[df['IPTW'] <= 23]"
   ]
  },
  {
   "cell_type": "code",
   "execution_count": null,
   "metadata": {},
   "outputs": [],
   "source": [
    "df.shape"
   ]
  },
  {
   "cell_type": "code",
   "execution_count": null,
   "metadata": {},
   "outputs": [],
   "source": [
    "# balance diagnostics\n",
    "# descriptives unmatched or unweighted  data"
   ]
  },
  {
   "cell_type": "code",
   "execution_count": null,
   "metadata": {},
   "outputs": [],
   "source": [
    "# split data and use numpy \n",
    "trt = df[df['treat'] == 1]  \n",
    "ctrl = df[df['treat'] == 0] "
   ]
  },
  {
   "cell_type": "code",
   "execution_count": null,
   "metadata": {},
   "outputs": [],
   "source": [
    "trt.columns"
   ]
  },
  {
   "cell_type": "code",
   "execution_count": null,
   "metadata": {},
   "outputs": [],
   "source": [
    "trt.shape"
   ]
  },
  {
   "cell_type": "code",
   "execution_count": null,
   "metadata": {},
   "outputs": [],
   "source": [
    "ctrl.shape"
   ]
  },
  {
   "cell_type": "code",
   "execution_count": null,
   "metadata": {},
   "outputs": [],
   "source": [
    "# descriptives for unmatched or unweighted data\n",
    "np.average(trt['IsFemale'])"
   ]
  },
  {
   "cell_type": "code",
   "execution_count": null,
   "metadata": {},
   "outputs": [],
   "source": [
    "np.average(ctrl['IsFemale'])"
   ]
  },
  {
   "cell_type": "code",
   "execution_count": null,
   "metadata": {},
   "outputs": [],
   "source": [
    "# descriptives with weighted data\n",
    "np.average(trt['MBR_AGE'], weights =  trt['IPTW'])"
   ]
  },
  {
   "cell_type": "code",
   "execution_count": null,
   "metadata": {},
   "outputs": [],
   "source": [
    "np.average(ctrl['MBR_AGE'], weights = ctrl['IPTW'])"
   ]
  },
  {
   "cell_type": "code",
   "execution_count": null,
   "metadata": {},
   "outputs": [],
   "source": [
    "cols = ['IsFemale', 'MBR_AGE', 'IsGlobal', 'SEV_LVL_CD']"
   ]
  },
  {
   "cell_type": "code",
   "execution_count": null,
   "metadata": {},
   "outputs": [],
   "source": [
    "df_trt = trt[cols]"
   ]
  },
  {
   "cell_type": "code",
   "execution_count": null,
   "metadata": {},
   "outputs": [],
   "source": [
    "df_ctrl = ctrl[cols]"
   ]
  },
  {
   "cell_type": "code",
   "execution_count": null,
   "metadata": {},
   "outputs": [],
   "source": [
    "from statsmodels.stats.weightstats import DescrStatsW"
   ]
  },
  {
   "cell_type": "code",
   "execution_count": null,
   "metadata": {},
   "outputs": [],
   "source": [
    "# Using Dataframe.apply() to apply function add column\n",
    "def trt_weightedmean(x):\n",
    "    return DescrStatsW(x, weights=trt['IPTW']).mean\n",
    "trt_mean = df_trt.apply(trt_weightedmean)"
   ]
  },
  {
   "cell_type": "code",
   "execution_count": null,
   "metadata": {},
   "outputs": [],
   "source": [
    "def trt_weightedstddv(x):\n",
    "    return DescrStatsW(x, weights=trt['IPTW']).std\n",
    "trt_std = df_trt.apply(trt_weightedstddv)"
   ]
  },
  {
   "cell_type": "code",
   "execution_count": null,
   "metadata": {},
   "outputs": [],
   "source": [
    "def ctrl_weightedmean(x):\n",
    "    return DescrStatsW(x, weights=ctrl['IPTW']).mean\n",
    "ctrl_mean = df_ctrl.apply(ctrl_weightedmean)"
   ]
  },
  {
   "cell_type": "code",
   "execution_count": null,
   "metadata": {},
   "outputs": [],
   "source": [
    "def ctrl_weightedstddv(x):\n",
    "    return DescrStatsW(x, weights=ctrl['IPTW']).std\n",
    "ctrl_std = df_ctrl.apply(ctrl_weightedstddv)"
   ]
  },
  {
   "cell_type": "code",
   "execution_count": null,
   "metadata": {},
   "outputs": [],
   "source": [
    "trt_mean.head()"
   ]
  },
  {
   "cell_type": "code",
   "execution_count": null,
   "metadata": {},
   "outputs": [],
   "source": [
    "ctrl_mean.head()"
   ]
  },
  {
   "cell_type": "code",
   "execution_count": null,
   "metadata": {},
   "outputs": [],
   "source": [
    "Diff_Mean = trt_mean.sub(ctrl_mean)\n",
    "Diff_Mean"
   ]
  },
  {
   "cell_type": "code",
   "execution_count": null,
   "metadata": {},
   "outputs": [],
   "source": [
    "# Pooled standard deviation\n",
    "Pooled_Std = trt_std.add(ctrl_std) / 2\n",
    "Pooled_Std"
   ]
  },
  {
   "cell_type": "code",
   "execution_count": null,
   "metadata": {},
   "outputs": [],
   "source": [
    "SSMD = abs(Diff_Mean / Pooled_Std)\n",
    "SSMD"
   ]
  },
  {
   "cell_type": "markdown",
   "metadata": {},
   "source": [
    "### estimation of treatment effects"
   ]
  },
  {
   "cell_type": "code",
   "execution_count": null,
   "metadata": {},
   "outputs": [],
   "source": [
    "# iptw regression\n",
    "iptwResults = smf.wls('PCP_ENC_90D ~ treat', data=df, weights = df.IPTW).fit()"
   ]
  },
  {
   "cell_type": "code",
   "execution_count": null,
   "metadata": {},
   "outputs": [],
   "source": [
    "iptwResults.summary() "
   ]
  },
  {
   "cell_type": "code",
   "execution_count": null,
   "metadata": {},
   "outputs": [],
   "source": [
    "params = iptwResults.params\n",
    "conf = iptwResults.conf_int()\n",
    "conf['Odds Ratio'] = params\n",
    "conf.columns = ['5%', '95%', 'Odds Ratio']"
   ]
  },
  {
   "cell_type": "code",
   "execution_count": null,
   "metadata": {},
   "outputs": [],
   "source": [
    "print(np.exp(conf))"
   ]
  },
  {
   "cell_type": "code",
   "execution_count": null,
   "metadata": {},
   "outputs": [],
   "source": []
  }
 ],
 "metadata": {
  "kernelspec": {
   "display_name": "Python 3 (ipykernel)",
   "language": "python",
   "name": "python3"
  },
  "language_info": {
   "codemirror_mode": {
    "name": "ipython",
    "version": 3
   },
   "file_extension": ".py",
   "mimetype": "text/x-python",
   "name": "python",
   "nbconvert_exporter": "python",
   "pygments_lexer": "ipython3",
   "version": "3.9.7"
  }
 },
 "nbformat": 4,
 "nbformat_minor": 4
}
